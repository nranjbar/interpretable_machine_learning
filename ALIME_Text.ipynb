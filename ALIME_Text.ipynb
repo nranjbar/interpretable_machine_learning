{
  "nbformat": 4,
  "nbformat_minor": 0,
  "metadata": {
    "colab": {
      "name": "ALIME_Text.ipynb",
      "provenance": [],
      "collapsed_sections": [
        "eZXFDXcpGwMJ",
        "-x0Z2ks_HoCb",
        "YLGeX5G3LK85",
        "THQ3zt-KLWl-"
      ],
      "machine_shape": "hm"
    },
    "kernelspec": {
      "name": "python3",
      "display_name": "Python 3"
    },
    "language_info": {
      "name": "python"
    },
    "accelerator": "GPU",
    "widgets": {
      "application/vnd.jupyter.widget-state+json": {
        "1952cc7d8f0942ff89baef92dc0b5334": {
          "model_module": "@jupyter-widgets/controls",
          "model_name": "HBoxModel",
          "state": {
            "_view_name": "HBoxView",
            "_dom_classes": [],
            "_model_name": "HBoxModel",
            "_view_module": "@jupyter-widgets/controls",
            "_model_module_version": "1.5.0",
            "_view_count": null,
            "_view_module_version": "1.5.0",
            "box_style": "",
            "layout": "IPY_MODEL_cf5d7358b113485c8dfe95eebec1b74a",
            "_model_module": "@jupyter-widgets/controls",
            "children": [
              "IPY_MODEL_15793dd0284d46c5bde2230eef8d9ef7",
              "IPY_MODEL_801e8ce2d61a46f3ba4e1c787b74ef6a"
            ]
          }
        },
        "cf5d7358b113485c8dfe95eebec1b74a": {
          "model_module": "@jupyter-widgets/base",
          "model_name": "LayoutModel",
          "state": {
            "_view_name": "LayoutView",
            "grid_template_rows": null,
            "right": null,
            "justify_content": null,
            "_view_module": "@jupyter-widgets/base",
            "overflow": null,
            "_model_module_version": "1.2.0",
            "_view_count": null,
            "flex_flow": null,
            "width": null,
            "min_width": null,
            "border": null,
            "align_items": null,
            "bottom": null,
            "_model_module": "@jupyter-widgets/base",
            "top": null,
            "grid_column": null,
            "overflow_y": null,
            "overflow_x": null,
            "grid_auto_flow": null,
            "grid_area": null,
            "grid_template_columns": null,
            "flex": null,
            "_model_name": "LayoutModel",
            "justify_items": null,
            "grid_row": null,
            "max_height": null,
            "align_content": null,
            "visibility": null,
            "align_self": null,
            "height": null,
            "min_height": null,
            "padding": null,
            "grid_auto_rows": null,
            "grid_gap": null,
            "max_width": null,
            "order": null,
            "_view_module_version": "1.2.0",
            "grid_template_areas": null,
            "object_position": null,
            "object_fit": null,
            "grid_auto_columns": null,
            "margin": null,
            "display": null,
            "left": null
          }
        },
        "15793dd0284d46c5bde2230eef8d9ef7": {
          "model_module": "@jupyter-widgets/controls",
          "model_name": "FloatProgressModel",
          "state": {
            "_view_name": "ProgressView",
            "style": "IPY_MODEL_519a7732ff814471bd273dfd915aa438",
            "_dom_classes": [],
            "description": "Downloading: 100%",
            "_model_name": "FloatProgressModel",
            "bar_style": "success",
            "max": 798011,
            "_view_module": "@jupyter-widgets/controls",
            "_model_module_version": "1.5.0",
            "value": 798011,
            "_view_count": null,
            "_view_module_version": "1.5.0",
            "orientation": "horizontal",
            "min": 0,
            "description_tooltip": null,
            "_model_module": "@jupyter-widgets/controls",
            "layout": "IPY_MODEL_b2fffd61fc0d41989d19ed0e1dfac11a"
          }
        },
        "801e8ce2d61a46f3ba4e1c787b74ef6a": {
          "model_module": "@jupyter-widgets/controls",
          "model_name": "HTMLModel",
          "state": {
            "_view_name": "HTMLView",
            "style": "IPY_MODEL_81b69853536e4567a846bee8a09f34ba",
            "_dom_classes": [],
            "description": "",
            "_model_name": "HTMLModel",
            "placeholder": "​",
            "_view_module": "@jupyter-widgets/controls",
            "_model_module_version": "1.5.0",
            "value": " 798k/798k [00:02&lt;00:00, 345kB/s]",
            "_view_count": null,
            "_view_module_version": "1.5.0",
            "description_tooltip": null,
            "_model_module": "@jupyter-widgets/controls",
            "layout": "IPY_MODEL_dbdaa8b8cc5241d48c3044befdae21b7"
          }
        },
        "519a7732ff814471bd273dfd915aa438": {
          "model_module": "@jupyter-widgets/controls",
          "model_name": "ProgressStyleModel",
          "state": {
            "_view_name": "StyleView",
            "_model_name": "ProgressStyleModel",
            "description_width": "initial",
            "_view_module": "@jupyter-widgets/base",
            "_model_module_version": "1.5.0",
            "_view_count": null,
            "_view_module_version": "1.2.0",
            "bar_color": null,
            "_model_module": "@jupyter-widgets/controls"
          }
        },
        "b2fffd61fc0d41989d19ed0e1dfac11a": {
          "model_module": "@jupyter-widgets/base",
          "model_name": "LayoutModel",
          "state": {
            "_view_name": "LayoutView",
            "grid_template_rows": null,
            "right": null,
            "justify_content": null,
            "_view_module": "@jupyter-widgets/base",
            "overflow": null,
            "_model_module_version": "1.2.0",
            "_view_count": null,
            "flex_flow": null,
            "width": null,
            "min_width": null,
            "border": null,
            "align_items": null,
            "bottom": null,
            "_model_module": "@jupyter-widgets/base",
            "top": null,
            "grid_column": null,
            "overflow_y": null,
            "overflow_x": null,
            "grid_auto_flow": null,
            "grid_area": null,
            "grid_template_columns": null,
            "flex": null,
            "_model_name": "LayoutModel",
            "justify_items": null,
            "grid_row": null,
            "max_height": null,
            "align_content": null,
            "visibility": null,
            "align_self": null,
            "height": null,
            "min_height": null,
            "padding": null,
            "grid_auto_rows": null,
            "grid_gap": null,
            "max_width": null,
            "order": null,
            "_view_module_version": "1.2.0",
            "grid_template_areas": null,
            "object_position": null,
            "object_fit": null,
            "grid_auto_columns": null,
            "margin": null,
            "display": null,
            "left": null
          }
        },
        "81b69853536e4567a846bee8a09f34ba": {
          "model_module": "@jupyter-widgets/controls",
          "model_name": "DescriptionStyleModel",
          "state": {
            "_view_name": "StyleView",
            "_model_name": "DescriptionStyleModel",
            "description_width": "",
            "_view_module": "@jupyter-widgets/base",
            "_model_module_version": "1.5.0",
            "_view_count": null,
            "_view_module_version": "1.2.0",
            "_model_module": "@jupyter-widgets/controls"
          }
        },
        "dbdaa8b8cc5241d48c3044befdae21b7": {
          "model_module": "@jupyter-widgets/base",
          "model_name": "LayoutModel",
          "state": {
            "_view_name": "LayoutView",
            "grid_template_rows": null,
            "right": null,
            "justify_content": null,
            "_view_module": "@jupyter-widgets/base",
            "overflow": null,
            "_model_module_version": "1.2.0",
            "_view_count": null,
            "flex_flow": null,
            "width": null,
            "min_width": null,
            "border": null,
            "align_items": null,
            "bottom": null,
            "_model_module": "@jupyter-widgets/base",
            "top": null,
            "grid_column": null,
            "overflow_y": null,
            "overflow_x": null,
            "grid_auto_flow": null,
            "grid_area": null,
            "grid_template_columns": null,
            "flex": null,
            "_model_name": "LayoutModel",
            "justify_items": null,
            "grid_row": null,
            "max_height": null,
            "align_content": null,
            "visibility": null,
            "align_self": null,
            "height": null,
            "min_height": null,
            "padding": null,
            "grid_auto_rows": null,
            "grid_gap": null,
            "max_width": null,
            "order": null,
            "_view_module_version": "1.2.0",
            "grid_template_areas": null,
            "object_position": null,
            "object_fit": null,
            "grid_auto_columns": null,
            "margin": null,
            "display": null,
            "left": null
          }
        },
        "9063156cb3424587ab2a35ee7a5cdab7": {
          "model_module": "@jupyter-widgets/controls",
          "model_name": "HBoxModel",
          "state": {
            "_view_name": "HBoxView",
            "_dom_classes": [],
            "_model_name": "HBoxModel",
            "_view_module": "@jupyter-widgets/controls",
            "_model_module_version": "1.5.0",
            "_view_count": null,
            "_view_module_version": "1.5.0",
            "box_style": "",
            "layout": "IPY_MODEL_7fb1e7e0757f489e80ae2340f0cbe359",
            "_model_module": "@jupyter-widgets/controls",
            "children": [
              "IPY_MODEL_7eee338dbd7e4148995b7fb9622248b5",
              "IPY_MODEL_ab39a147cd4a4fd48d5d7ef5878f9e7b"
            ]
          }
        },
        "7fb1e7e0757f489e80ae2340f0cbe359": {
          "model_module": "@jupyter-widgets/base",
          "model_name": "LayoutModel",
          "state": {
            "_view_name": "LayoutView",
            "grid_template_rows": null,
            "right": null,
            "justify_content": null,
            "_view_module": "@jupyter-widgets/base",
            "overflow": null,
            "_model_module_version": "1.2.0",
            "_view_count": null,
            "flex_flow": null,
            "width": null,
            "min_width": null,
            "border": null,
            "align_items": null,
            "bottom": null,
            "_model_module": "@jupyter-widgets/base",
            "top": null,
            "grid_column": null,
            "overflow_y": null,
            "overflow_x": null,
            "grid_auto_flow": null,
            "grid_area": null,
            "grid_template_columns": null,
            "flex": null,
            "_model_name": "LayoutModel",
            "justify_items": null,
            "grid_row": null,
            "max_height": null,
            "align_content": null,
            "visibility": null,
            "align_self": null,
            "height": null,
            "min_height": null,
            "padding": null,
            "grid_auto_rows": null,
            "grid_gap": null,
            "max_width": null,
            "order": null,
            "_view_module_version": "1.2.0",
            "grid_template_areas": null,
            "object_position": null,
            "object_fit": null,
            "grid_auto_columns": null,
            "margin": null,
            "display": null,
            "left": null
          }
        },
        "7eee338dbd7e4148995b7fb9622248b5": {
          "model_module": "@jupyter-widgets/controls",
          "model_name": "FloatProgressModel",
          "state": {
            "_view_name": "ProgressView",
            "style": "IPY_MODEL_110a0b34a17b4e8d9f0e6bae502f413c",
            "_dom_classes": [],
            "description": "Downloading: 100%",
            "_model_name": "FloatProgressModel",
            "bar_style": "success",
            "max": 1382015,
            "_view_module": "@jupyter-widgets/controls",
            "_model_module_version": "1.5.0",
            "value": 1382015,
            "_view_count": null,
            "_view_module_version": "1.5.0",
            "orientation": "horizontal",
            "min": 0,
            "description_tooltip": null,
            "_model_module": "@jupyter-widgets/controls",
            "layout": "IPY_MODEL_8b1c2b1d533144479e3ef5f90cbb2ed9"
          }
        },
        "ab39a147cd4a4fd48d5d7ef5878f9e7b": {
          "model_module": "@jupyter-widgets/controls",
          "model_name": "HTMLModel",
          "state": {
            "_view_name": "HTMLView",
            "style": "IPY_MODEL_8fd9f645fbbe441e80a5b98de29f995a",
            "_dom_classes": [],
            "description": "",
            "_model_name": "HTMLModel",
            "placeholder": "​",
            "_view_module": "@jupyter-widgets/controls",
            "_model_module_version": "1.5.0",
            "value": " 1.38M/1.38M [00:00&lt;00:00, 1.90MB/s]",
            "_view_count": null,
            "_view_module_version": "1.5.0",
            "description_tooltip": null,
            "_model_module": "@jupyter-widgets/controls",
            "layout": "IPY_MODEL_ffad4c3bc32c48369eacb36ffd07d242"
          }
        },
        "110a0b34a17b4e8d9f0e6bae502f413c": {
          "model_module": "@jupyter-widgets/controls",
          "model_name": "ProgressStyleModel",
          "state": {
            "_view_name": "StyleView",
            "_model_name": "ProgressStyleModel",
            "description_width": "initial",
            "_view_module": "@jupyter-widgets/base",
            "_model_module_version": "1.5.0",
            "_view_count": null,
            "_view_module_version": "1.2.0",
            "bar_color": null,
            "_model_module": "@jupyter-widgets/controls"
          }
        },
        "8b1c2b1d533144479e3ef5f90cbb2ed9": {
          "model_module": "@jupyter-widgets/base",
          "model_name": "LayoutModel",
          "state": {
            "_view_name": "LayoutView",
            "grid_template_rows": null,
            "right": null,
            "justify_content": null,
            "_view_module": "@jupyter-widgets/base",
            "overflow": null,
            "_model_module_version": "1.2.0",
            "_view_count": null,
            "flex_flow": null,
            "width": null,
            "min_width": null,
            "border": null,
            "align_items": null,
            "bottom": null,
            "_model_module": "@jupyter-widgets/base",
            "top": null,
            "grid_column": null,
            "overflow_y": null,
            "overflow_x": null,
            "grid_auto_flow": null,
            "grid_area": null,
            "grid_template_columns": null,
            "flex": null,
            "_model_name": "LayoutModel",
            "justify_items": null,
            "grid_row": null,
            "max_height": null,
            "align_content": null,
            "visibility": null,
            "align_self": null,
            "height": null,
            "min_height": null,
            "padding": null,
            "grid_auto_rows": null,
            "grid_gap": null,
            "max_width": null,
            "order": null,
            "_view_module_version": "1.2.0",
            "grid_template_areas": null,
            "object_position": null,
            "object_fit": null,
            "grid_auto_columns": null,
            "margin": null,
            "display": null,
            "left": null
          }
        },
        "8fd9f645fbbe441e80a5b98de29f995a": {
          "model_module": "@jupyter-widgets/controls",
          "model_name": "DescriptionStyleModel",
          "state": {
            "_view_name": "StyleView",
            "_model_name": "DescriptionStyleModel",
            "description_width": "",
            "_view_module": "@jupyter-widgets/base",
            "_model_module_version": "1.5.0",
            "_view_count": null,
            "_view_module_version": "1.2.0",
            "_model_module": "@jupyter-widgets/controls"
          }
        },
        "ffad4c3bc32c48369eacb36ffd07d242": {
          "model_module": "@jupyter-widgets/base",
          "model_name": "LayoutModel",
          "state": {
            "_view_name": "LayoutView",
            "grid_template_rows": null,
            "right": null,
            "justify_content": null,
            "_view_module": "@jupyter-widgets/base",
            "overflow": null,
            "_model_module_version": "1.2.0",
            "_view_count": null,
            "flex_flow": null,
            "width": null,
            "min_width": null,
            "border": null,
            "align_items": null,
            "bottom": null,
            "_model_module": "@jupyter-widgets/base",
            "top": null,
            "grid_column": null,
            "overflow_y": null,
            "overflow_x": null,
            "grid_auto_flow": null,
            "grid_area": null,
            "grid_template_columns": null,
            "flex": null,
            "_model_name": "LayoutModel",
            "justify_items": null,
            "grid_row": null,
            "max_height": null,
            "align_content": null,
            "visibility": null,
            "align_self": null,
            "height": null,
            "min_height": null,
            "padding": null,
            "grid_auto_rows": null,
            "grid_gap": null,
            "max_width": null,
            "order": null,
            "_view_module_version": "1.2.0",
            "grid_template_areas": null,
            "object_position": null,
            "object_fit": null,
            "grid_auto_columns": null,
            "margin": null,
            "display": null,
            "left": null
          }
        },
        "5f8da72819a24eee805bb0e9e261d31e": {
          "model_module": "@jupyter-widgets/controls",
          "model_name": "HBoxModel",
          "state": {
            "_view_name": "HBoxView",
            "_dom_classes": [],
            "_model_name": "HBoxModel",
            "_view_module": "@jupyter-widgets/controls",
            "_model_module_version": "1.5.0",
            "_view_count": null,
            "_view_module_version": "1.5.0",
            "box_style": "",
            "layout": "IPY_MODEL_911908fd4f80412d992d01cdd94b8e2b",
            "_model_module": "@jupyter-widgets/controls",
            "children": [
              "IPY_MODEL_14ed1f4037874a6cafde209749385579",
              "IPY_MODEL_a6c55a66988b4b309c4bcfad24b01b62"
            ]
          }
        },
        "911908fd4f80412d992d01cdd94b8e2b": {
          "model_module": "@jupyter-widgets/base",
          "model_name": "LayoutModel",
          "state": {
            "_view_name": "LayoutView",
            "grid_template_rows": null,
            "right": null,
            "justify_content": null,
            "_view_module": "@jupyter-widgets/base",
            "overflow": null,
            "_model_module_version": "1.2.0",
            "_view_count": null,
            "flex_flow": null,
            "width": null,
            "min_width": null,
            "border": null,
            "align_items": null,
            "bottom": null,
            "_model_module": "@jupyter-widgets/base",
            "top": null,
            "grid_column": null,
            "overflow_y": null,
            "overflow_x": null,
            "grid_auto_flow": null,
            "grid_area": null,
            "grid_template_columns": null,
            "flex": null,
            "_model_name": "LayoutModel",
            "justify_items": null,
            "grid_row": null,
            "max_height": null,
            "align_content": null,
            "visibility": null,
            "align_self": null,
            "height": null,
            "min_height": null,
            "padding": null,
            "grid_auto_rows": null,
            "grid_gap": null,
            "max_width": null,
            "order": null,
            "_view_module_version": "1.2.0",
            "grid_template_areas": null,
            "object_position": null,
            "object_fit": null,
            "grid_auto_columns": null,
            "margin": null,
            "display": null,
            "left": null
          }
        },
        "14ed1f4037874a6cafde209749385579": {
          "model_module": "@jupyter-widgets/controls",
          "model_name": "FloatProgressModel",
          "state": {
            "_view_name": "ProgressView",
            "style": "IPY_MODEL_06e85f795c9744c5a54dd30e4d37227d",
            "_dom_classes": [],
            "description": "Downloading: 100%",
            "_model_name": "FloatProgressModel",
            "bar_style": "success",
            "max": 760,
            "_view_module": "@jupyter-widgets/controls",
            "_model_module_version": "1.5.0",
            "value": 760,
            "_view_count": null,
            "_view_module_version": "1.5.0",
            "orientation": "horizontal",
            "min": 0,
            "description_tooltip": null,
            "_model_module": "@jupyter-widgets/controls",
            "layout": "IPY_MODEL_f0ee94dcdcac4eb2987a98e63c4973e0"
          }
        },
        "a6c55a66988b4b309c4bcfad24b01b62": {
          "model_module": "@jupyter-widgets/controls",
          "model_name": "HTMLModel",
          "state": {
            "_view_name": "HTMLView",
            "style": "IPY_MODEL_e77fa83359f245dfa7305f1f11582f27",
            "_dom_classes": [],
            "description": "",
            "_model_name": "HTMLModel",
            "placeholder": "​",
            "_view_module": "@jupyter-widgets/controls",
            "_model_module_version": "1.5.0",
            "value": " 760/760 [00:00&lt;00:00, 17.7kB/s]",
            "_view_count": null,
            "_view_module_version": "1.5.0",
            "description_tooltip": null,
            "_model_module": "@jupyter-widgets/controls",
            "layout": "IPY_MODEL_2e57b6c97c8a4b71abae5c8d4a46e166"
          }
        },
        "06e85f795c9744c5a54dd30e4d37227d": {
          "model_module": "@jupyter-widgets/controls",
          "model_name": "ProgressStyleModel",
          "state": {
            "_view_name": "StyleView",
            "_model_name": "ProgressStyleModel",
            "description_width": "initial",
            "_view_module": "@jupyter-widgets/base",
            "_model_module_version": "1.5.0",
            "_view_count": null,
            "_view_module_version": "1.2.0",
            "bar_color": null,
            "_model_module": "@jupyter-widgets/controls"
          }
        },
        "f0ee94dcdcac4eb2987a98e63c4973e0": {
          "model_module": "@jupyter-widgets/base",
          "model_name": "LayoutModel",
          "state": {
            "_view_name": "LayoutView",
            "grid_template_rows": null,
            "right": null,
            "justify_content": null,
            "_view_module": "@jupyter-widgets/base",
            "overflow": null,
            "_model_module_version": "1.2.0",
            "_view_count": null,
            "flex_flow": null,
            "width": null,
            "min_width": null,
            "border": null,
            "align_items": null,
            "bottom": null,
            "_model_module": "@jupyter-widgets/base",
            "top": null,
            "grid_column": null,
            "overflow_y": null,
            "overflow_x": null,
            "grid_auto_flow": null,
            "grid_area": null,
            "grid_template_columns": null,
            "flex": null,
            "_model_name": "LayoutModel",
            "justify_items": null,
            "grid_row": null,
            "max_height": null,
            "align_content": null,
            "visibility": null,
            "align_self": null,
            "height": null,
            "min_height": null,
            "padding": null,
            "grid_auto_rows": null,
            "grid_gap": null,
            "max_width": null,
            "order": null,
            "_view_module_version": "1.2.0",
            "grid_template_areas": null,
            "object_position": null,
            "object_fit": null,
            "grid_auto_columns": null,
            "margin": null,
            "display": null,
            "left": null
          }
        },
        "e77fa83359f245dfa7305f1f11582f27": {
          "model_module": "@jupyter-widgets/controls",
          "model_name": "DescriptionStyleModel",
          "state": {
            "_view_name": "StyleView",
            "_model_name": "DescriptionStyleModel",
            "description_width": "",
            "_view_module": "@jupyter-widgets/base",
            "_model_module_version": "1.5.0",
            "_view_count": null,
            "_view_module_version": "1.2.0",
            "_model_module": "@jupyter-widgets/controls"
          }
        },
        "2e57b6c97c8a4b71abae5c8d4a46e166": {
          "model_module": "@jupyter-widgets/base",
          "model_name": "LayoutModel",
          "state": {
            "_view_name": "LayoutView",
            "grid_template_rows": null,
            "right": null,
            "justify_content": null,
            "_view_module": "@jupyter-widgets/base",
            "overflow": null,
            "_model_module_version": "1.2.0",
            "_view_count": null,
            "flex_flow": null,
            "width": null,
            "min_width": null,
            "border": null,
            "align_items": null,
            "bottom": null,
            "_model_module": "@jupyter-widgets/base",
            "top": null,
            "grid_column": null,
            "overflow_y": null,
            "overflow_x": null,
            "grid_auto_flow": null,
            "grid_area": null,
            "grid_template_columns": null,
            "flex": null,
            "_model_name": "LayoutModel",
            "justify_items": null,
            "grid_row": null,
            "max_height": null,
            "align_content": null,
            "visibility": null,
            "align_self": null,
            "height": null,
            "min_height": null,
            "padding": null,
            "grid_auto_rows": null,
            "grid_gap": null,
            "max_width": null,
            "order": null,
            "_view_module_version": "1.2.0",
            "grid_template_areas": null,
            "object_position": null,
            "object_fit": null,
            "grid_auto_columns": null,
            "margin": null,
            "display": null,
            "left": null
          }
        }
      }
    }
  },
  "cells": [
    {
      "cell_type": "markdown",
      "metadata": {
        "id": "eZXFDXcpGwMJ"
      },
      "source": [
        "# Preparing dependencies..."
      ]
    },
    {
      "cell_type": "code",
      "metadata": {
        "id": "zuAJhaKr1z8c"
      },
      "source": [
        "!pip install transformers\n",
        "!pip install torch"
      ],
      "execution_count": null,
      "outputs": []
    },
    {
      "cell_type": "code",
      "metadata": {
        "id": "T3pqnXUgNGXe"
      },
      "source": [
        "from google.colab import drive\n",
        "drive.mount('/content/drive')"
      ],
      "execution_count": null,
      "outputs": []
    },
    {
      "cell_type": "code",
      "metadata": {
        "id": "JbdVQvt39xZH"
      },
      "source": [
        "% pip install sentencepiece"
      ],
      "execution_count": null,
      "outputs": []
    },
    {
      "cell_type": "code",
      "metadata": {
        "id": "Q8DXBg4p-jU9"
      },
      "source": [
        "! git clone https://github.com/google/sentencepiece.git \n",
        "! cd sentencepiece\n",
        "! mkdir build\n",
        "! cd build\n",
        "! cmake ..\n",
        "! make -j $(nproc)\n",
        "! sudo make install\n",
        "! sudo ldconfig -v"
      ],
      "execution_count": null,
      "outputs": []
    },
    {
      "cell_type": "code",
      "metadata": {
        "id": "lgoEZCK9-7en"
      },
      "source": [
        "!git clone https://github.com/Microsoft/vcpkg.git\n",
        "!cd vcpkg\n",
        "!./bootstrap-vcpkg.sh\n",
        "!./vcpkg integrate install\n",
        "!./vcpkg install sentencepiece"
      ],
      "execution_count": null,
      "outputs": []
    },
    {
      "cell_type": "code",
      "metadata": {
        "id": "1c57obHx58UQ"
      },
      "source": [
        "!pip install -q -U watermark"
      ],
      "execution_count": null,
      "outputs": []
    },
    {
      "cell_type": "code",
      "metadata": {
        "id": "X4j-oAXa6AoC"
      },
      "source": [
        "%reload_ext watermark\n",
        "%watermark -v -p numpy,pandas,torch,transformers"
      ],
      "execution_count": null,
      "outputs": []
    },
    {
      "cell_type": "code",
      "metadata": {
        "id": "H55Wrpi3F8oz"
      },
      "source": [
        "!pip install numpy git+https://github.com/makcedward/nlpaug.git"
      ],
      "execution_count": null,
      "outputs": []
    },
    {
      "cell_type": "code",
      "metadata": {
        "id": "fA81eEhAGN65"
      },
      "source": [
        "!pip install torch>=1.6.0 transformers>=4.0.0 sentencepiece"
      ],
      "execution_count": null,
      "outputs": []
    },
    {
      "cell_type": "code",
      "metadata": {
        "id": "68vT5fqCL5fy"
      },
      "source": [
        "!pip install nltk>=3.4.5"
      ],
      "execution_count": null,
      "outputs": []
    },
    {
      "cell_type": "code",
      "metadata": {
        "id": "HXXUBBsAnkqG"
      },
      "source": [
        "!pip install textaugment"
      ],
      "execution_count": null,
      "outputs": []
    },
    {
      "cell_type": "code",
      "metadata": {
        "id": "TrF4kmx3pD5r"
      },
      "source": [
        "!brew install wget\n",
        "\n",
        "!wget -c \"https://s3.amazonaws.com/dl4j-distribution/GoogleNews-vectors-negative300.bin.gz\"\n",
        "!gzip -d GoogleNews-vectors-negative300.bin.gz"
      ],
      "execution_count": null,
      "outputs": []
    },
    {
      "cell_type": "code",
      "metadata": {
        "id": "Tmj1YXZTMHAC"
      },
      "source": [
        "!pip install librosa>=0.7.1 matplotlib"
      ],
      "execution_count": null,
      "outputs": []
    },
    {
      "cell_type": "code",
      "metadata": {
        "id": "TIlSbsVHXdNB"
      },
      "source": [
        "!pip install wget"
      ],
      "execution_count": null,
      "outputs": []
    },
    {
      "cell_type": "code",
      "metadata": {
        "id": "UjeWpKXnwFsc"
      },
      "source": [
        "!pip install -U sentence-transformers"
      ],
      "execution_count": null,
      "outputs": []
    },
    {
      "cell_type": "markdown",
      "metadata": {
        "id": "-x0Z2ks_HoCb"
      },
      "source": [
        "\n",
        "# Read Dataset"
      ]
    },
    {
      "cell_type": "code",
      "metadata": {
        "id": "sWpI0AVK6CtQ"
      },
      "source": [
        "import transformers\n",
        "from transformers import XLNetTokenizer, XLNetModel, AdamW, get_linear_schedule_with_warmup\n",
        "import torch\n",
        "\n",
        "import numpy as np\n",
        "import pandas as pd\n",
        "import seaborn as sns\n",
        "import matplotlib.pyplot as plt\n",
        "from matplotlib import rc\n",
        "from sklearn.model_selection import train_test_split\n",
        "from sklearn.metrics import confusion_matrix, classification_report, accuracy_score\n",
        "from sklearn import metrics\n",
        "from collections import defaultdict\n",
        "from textwrap import wrap\n",
        "from pylab import rcParams\n",
        "\n",
        "from torch import nn, optim\n",
        "from keras.preprocessing.sequence import pad_sequences\n",
        "from torch.utils.data import TensorDataset,RandomSampler,SequentialSampler\n",
        "from torch.utils.data import Dataset, DataLoader\n",
        "import torch.nn.functional as F\n",
        "from sklearn.utils import shuffle\n",
        "import re\n",
        "from transformers import XLNetTokenizer, XLNetModel\n",
        "\n",
        "import nlpaug.augmenter.char as nac\n",
        "import nlpaug.augmenter.word as naw\n",
        "import nlpaug.augmenter.sentence as nas\n",
        "import nlpaug.flow as nafc\n",
        "\n",
        "from nlpaug.util import Action\n",
        "from nltk.corpus import stopwords\n",
        "import nltk\n",
        "from nltk.corpus import sentiwordnet as swn\n",
        "from nltk.tokenize import word_tokenize\n",
        "from sklearn import metrics\n",
        "from transformers import XLNetForSequenceClassification\n",
        "import sklearn\n",
        "from sentence_transformers import SentenceTransformer, util\n",
        "import graphviz\n",
        "from sklearn.feature_extraction.text import CountVectorizer,TfidfVectorizer\n",
        "\n",
        "nltk.download('punkt')\n",
        "nltk.download('sentiwordnet')\n",
        "nltk.download('stopwords')\n",
        "stop_words=stopwords.words('english')\n",
        "nltk.download('averaged_perceptron_tagger')\n",
        "nltk.download('wordnet')"
      ],
      "execution_count": null,
      "outputs": []
    },
    {
      "cell_type": "code",
      "metadata": {
        "colab": {
          "base_uri": "https://localhost:8080/"
        },
        "id": "m6FSsbg3w9Os",
        "outputId": "20b6e611-33f8-41e0-cbdc-9636c86ed9d3"
      },
      "source": [
        "%matplotlib inline\n",
        "%config InlineBackend.figure_format='retina'\n",
        "\n",
        "sns.set(style='whitegrid', palette='muted', font_scale=1.2)\n",
        "\n",
        "HAPPY_COLORS_PALETTE = [\"#01BEFE\", \"#FFDD00\", \"#FF7D00\", \"#FF006D\", \"#ADFF02\", \"#8F00FF\"]\n",
        "\n",
        "sns.set_palette(sns.color_palette(HAPPY_COLORS_PALETTE))\n",
        "\n",
        "rcParams['figure.figsize'] = 12, 8\n",
        "\n",
        "RANDOM_SEED = 42\n",
        "np.random.seed(RANDOM_SEED)\n",
        "torch.manual_seed(RANDOM_SEED)\n",
        "\n",
        "device = torch.device(\"cuda:0\" if torch.cuda.is_available() else \"cpu\")\n",
        "device"
      ],
      "execution_count": null,
      "outputs": [
        {
          "output_type": "execute_result",
          "data": {
            "text/plain": [
              "device(type='cuda', index=0)"
            ]
          },
          "metadata": {
            "tags": []
          },
          "execution_count": 9
        }
      ]
    },
    {
      "cell_type": "code",
      "metadata": {
        "id": "pKuYOl8s7sLx"
      },
      "source": [
        "path_to_data = \"resources/imdb.csv\"\n",
        "df = pd.read_csv(path_to_data)\n",
        "df.head()"
      ],
      "execution_count": null,
      "outputs": []
    },
    {
      "cell_type": "code",
      "metadata": {
        "id": "SzwF98vi7xPD"
      },
      "source": [
        "df = shuffle(df)"
      ],
      "execution_count": null,
      "outputs": []
    },
    {
      "cell_type": "code",
      "metadata": {
        "colab": {
          "base_uri": "https://localhost:8080/"
        },
        "id": "VZg3FGdX8lxg",
        "outputId": "919f63f0-73fc-4b95-a630-473ed0b68b06"
      },
      "source": [
        "df = df[:40000]\n",
        "len(df)"
      ],
      "execution_count": null,
      "outputs": [
        {
          "output_type": "execute_result",
          "data": {
            "text/plain": [
              "40000"
            ]
          },
          "metadata": {
            "tags": []
          },
          "execution_count": 12
        }
      ]
    },
    {
      "cell_type": "code",
      "metadata": {
        "id": "DyTm7CbC83uu"
      },
      "source": [
        "def clean_text(text):\n",
        "    text = re.sub(r\"@[A-Za-z0-9]+\", ' ', text)\n",
        "    text = re.sub(r\"https?://[A-Za-z0-9./]+\", ' ', text)\n",
        "    text = re.sub(r\"[^a-zA-z.!?'0-9]\", ' ', text)\n",
        "    text = re.sub('\\t', ' ',  text)\n",
        "    text = re.sub(r\" +\", ' ', text)\n",
        "    return text"
      ],
      "execution_count": null,
      "outputs": []
    },
    {
      "cell_type": "code",
      "metadata": {
        "id": "92khZjrt89CW"
      },
      "source": [
        "df['review'] = df['review'].apply(clean_text)"
      ],
      "execution_count": null,
      "outputs": []
    },
    {
      "cell_type": "code",
      "metadata": {
        "id": "2QDXFuOz9LPH"
      },
      "source": [
        "def sentiment2label(sentiment):\n",
        "    if sentiment == \"positive\":\n",
        "        return 1\n",
        "    else :\n",
        "        return 0\n",
        "\n",
        "df['sentiment'] = df['sentiment'].apply(sentiment2label)"
      ],
      "execution_count": null,
      "outputs": []
    },
    {
      "cell_type": "code",
      "metadata": {
        "colab": {
          "base_uri": "https://localhost:8080/"
        },
        "id": "O37_IkVo9QD-",
        "outputId": "0afdb17c-a198-4c5f-ca04-622ea71a95ff"
      },
      "source": [
        "df['sentiment'].value_counts()"
      ],
      "execution_count": null,
      "outputs": [
        {
          "output_type": "execute_result",
          "data": {
            "text/plain": [
              "1    20004\n",
              "0    19996\n",
              "Name: sentiment, dtype: int64"
            ]
          },
          "metadata": {
            "tags": []
          },
          "execution_count": 17
        }
      ]
    },
    {
      "cell_type": "code",
      "metadata": {
        "id": "ssLJp7mX9SSm"
      },
      "source": [
        "class_names = ['negative', 'positive']"
      ],
      "execution_count": null,
      "outputs": []
    },
    {
      "cell_type": "code",
      "metadata": {
        "colab": {
          "base_uri": "https://localhost:8080/",
          "height": 166,
          "referenced_widgets": [
            "1952cc7d8f0942ff89baef92dc0b5334",
            "cf5d7358b113485c8dfe95eebec1b74a",
            "15793dd0284d46c5bde2230eef8d9ef7",
            "801e8ce2d61a46f3ba4e1c787b74ef6a",
            "519a7732ff814471bd273dfd915aa438",
            "b2fffd61fc0d41989d19ed0e1dfac11a",
            "81b69853536e4567a846bee8a09f34ba",
            "dbdaa8b8cc5241d48c3044befdae21b7",
            "9063156cb3424587ab2a35ee7a5cdab7",
            "7fb1e7e0757f489e80ae2340f0cbe359",
            "7eee338dbd7e4148995b7fb9622248b5",
            "ab39a147cd4a4fd48d5d7ef5878f9e7b",
            "110a0b34a17b4e8d9f0e6bae502f413c",
            "8b1c2b1d533144479e3ef5f90cbb2ed9",
            "8fd9f645fbbe441e80a5b98de29f995a",
            "ffad4c3bc32c48369eacb36ffd07d242",
            "5f8da72819a24eee805bb0e9e261d31e",
            "911908fd4f80412d992d01cdd94b8e2b",
            "14ed1f4037874a6cafde209749385579",
            "a6c55a66988b4b309c4bcfad24b01b62",
            "06e85f795c9744c5a54dd30e4d37227d",
            "f0ee94dcdcac4eb2987a98e63c4973e0",
            "e77fa83359f245dfa7305f1f11582f27",
            "2e57b6c97c8a4b71abae5c8d4a46e166"
          ]
        },
        "id": "SRhzvnrQ9V0G",
        "outputId": "bde0e9be-01f3-415d-b13c-c65803e3e010"
      },
      "source": [
        "PRE_TRAINED_MODEL_NAME = 'xlnet-base-cased'\n",
        "tokenizer = XLNetTokenizer.from_pretrained(PRE_TRAINED_MODEL_NAME)"
      ],
      "execution_count": null,
      "outputs": [
        {
          "output_type": "display_data",
          "data": {
            "application/vnd.jupyter.widget-view+json": {
              "model_id": "1952cc7d8f0942ff89baef92dc0b5334",
              "version_minor": 0,
              "version_major": 2
            },
            "text/plain": [
              "HBox(children=(FloatProgress(value=0.0, description='Downloading', max=798011.0, style=ProgressStyle(descripti…"
            ]
          },
          "metadata": {
            "tags": []
          }
        },
        {
          "output_type": "stream",
          "text": [
            "\n"
          ],
          "name": "stdout"
        },
        {
          "output_type": "display_data",
          "data": {
            "application/vnd.jupyter.widget-view+json": {
              "model_id": "9063156cb3424587ab2a35ee7a5cdab7",
              "version_minor": 0,
              "version_major": 2
            },
            "text/plain": [
              "HBox(children=(FloatProgress(value=0.0, description='Downloading', max=1382015.0, style=ProgressStyle(descript…"
            ]
          },
          "metadata": {
            "tags": []
          }
        },
        {
          "output_type": "stream",
          "text": [
            "\n"
          ],
          "name": "stdout"
        },
        {
          "output_type": "display_data",
          "data": {
            "application/vnd.jupyter.widget-view+json": {
              "model_id": "5f8da72819a24eee805bb0e9e261d31e",
              "version_minor": 0,
              "version_major": 2
            },
            "text/plain": [
              "HBox(children=(FloatProgress(value=0.0, description='Downloading', max=760.0, style=ProgressStyle(description_…"
            ]
          },
          "metadata": {
            "tags": []
          }
        },
        {
          "output_type": "stream",
          "text": [
            "\n"
          ],
          "name": "stdout"
        }
      ]
    },
    {
      "cell_type": "code",
      "metadata": {
        "id": "rsdqDuIjBn6b",
        "colab": {
          "base_uri": "https://localhost:8080/"
        },
        "outputId": "f2eb6f61-06e7-484f-d080-7ff0fd0611b5"
      },
      "source": [
        "token_lens = []\n",
        "for txt in df['review']:\n",
        "  tokens = tokenizer.encode(txt, max_length=512)\n",
        "  token_lens.append(len(tokens))"
      ],
      "execution_count": null,
      "outputs": [
        {
          "output_type": "stream",
          "text": [
            "Truncation was not explicitly activated but `max_length` is provided a specific value, please use `truncation=True` to explicitly truncate examples to max length. Defaulting to 'longest_first' truncation strategy. If you encode pairs of sequences (GLUE-style) with the tokenizer you can select this strategy more precisely by providing a specific strategy to `truncation`.\n"
          ],
          "name": "stderr"
        }
      ]
    },
    {
      "cell_type": "code",
      "metadata": {
        "id": "ukYR5HgvBsub"
      },
      "source": [
        "MAX_LEN = 512"
      ],
      "execution_count": null,
      "outputs": []
    },
    {
      "cell_type": "code",
      "metadata": {
        "id": "T0GQZMF-B168"
      },
      "source": [
        "class ImdbDataset(Dataset):\n",
        "\n",
        "    def __init__(self, reviews, targets, tokenizer, max_len):\n",
        "        self.reviews = reviews\n",
        "        self.targets = targets\n",
        "        self.tokenizer = tokenizer\n",
        "        self.max_len = max_len\n",
        "    \n",
        "    def __len__(self):\n",
        "        return len(self.reviews)\n",
        "    \n",
        "    def __getitem__(self, item):\n",
        "        review = str(self.reviews[item])\n",
        "        target = self.targets[item]\n",
        "\n",
        "        encoding = self.tokenizer.encode_plus(\n",
        "        review,\n",
        "        add_special_tokens=True,\n",
        "        max_length=self.max_len,\n",
        "        return_token_type_ids=False,\n",
        "        pad_to_max_length=False,\n",
        "        return_attention_mask=True,\n",
        "        return_tensors='pt',\n",
        "        )\n",
        "\n",
        "        input_ids = pad_sequences(encoding['input_ids'], maxlen=MAX_LEN, dtype=torch.Tensor ,truncating=\"post\",padding=\"post\")\n",
        "        input_ids = input_ids.astype(dtype = 'int64')\n",
        "        input_ids = torch.tensor(input_ids) \n",
        "\n",
        "        attention_mask = pad_sequences(encoding['attention_mask'], maxlen=MAX_LEN, dtype=torch.Tensor ,truncating=\"post\",padding=\"post\")\n",
        "        attention_mask = attention_mask.astype(dtype = 'int64')\n",
        "        attention_mask = torch.tensor(attention_mask)       \n",
        "\n",
        "        return {\n",
        "        'review_text': review,\n",
        "        'input_ids': input_ids,\n",
        "        'attention_mask': attention_mask.flatten(),\n",
        "        'targets': torch.tensor(target, dtype=torch.long)\n",
        "        }"
      ],
      "execution_count": null,
      "outputs": []
    },
    {
      "cell_type": "code",
      "metadata": {
        "id": "GKTBJ7vAB6Aj"
      },
      "source": [
        "df_train, df_test = train_test_split(df, test_size=0.5, random_state=101)\n",
        "df_val, df_test = train_test_split(df_test, test_size=0.5, random_state=101)"
      ],
      "execution_count": null,
      "outputs": []
    },
    {
      "cell_type": "code",
      "metadata": {
        "id": "CbgYu_JCB-0s"
      },
      "source": [
        "df_train.shape, df_val.shape, df_test.shape"
      ],
      "execution_count": null,
      "outputs": []
    },
    {
      "cell_type": "code",
      "metadata": {
        "id": "8OPZOUrzk1-W"
      },
      "source": [
        "test_text=[]\n",
        "for txt in df_test['review']:\n",
        "  if len(txt.split(' '))<30:\n",
        "    test_text.append(txt)\n",
        "print(len(test_text))\n",
        "print(test_text)"
      ],
      "execution_count": null,
      "outputs": []
    },
    {
      "cell_type": "code",
      "metadata": {
        "id": "XB-W0YK_CDzi"
      },
      "source": [
        "def create_data_loader(df, tokenizer, max_len, batch_size):\n",
        "  ds = ImdbDataset(\n",
        "    reviews=df.review.to_numpy(),\n",
        "    targets=df.sentiment.to_numpy(),\n",
        "    tokenizer=tokenizer,\n",
        "    max_len=max_len\n",
        "  )\n",
        "\n",
        "  return DataLoader(\n",
        "    ds,\n",
        "    batch_size=batch_size,\n",
        "    num_workers=4\n",
        "  )"
      ],
      "execution_count": null,
      "outputs": []
    },
    {
      "cell_type": "code",
      "metadata": {
        "id": "oKbrTy5VCEeM"
      },
      "source": [
        "BATCH_SIZE = 4\n",
        "\n",
        "train_data_loader = create_data_loader(df_train, tokenizer, MAX_LEN, BATCH_SIZE)\n",
        "val_data_loader = create_data_loader(df_val, tokenizer, MAX_LEN, BATCH_SIZE)\n",
        "test_data_loader = create_data_loader(df_test, tokenizer, MAX_LEN, BATCH_SIZE)"
      ],
      "execution_count": null,
      "outputs": []
    },
    {
      "cell_type": "code",
      "metadata": {
        "id": "yFGLS6QyCJLK"
      },
      "source": [
        "model = XLNetForSequenceClassification.from_pretrained('xlnet-base-cased', num_labels = 2)\n",
        "model = model.to(device)"
      ],
      "execution_count": null,
      "outputs": []
    },
    {
      "cell_type": "code",
      "metadata": {
        "id": "IqOteVtuCMKl"
      },
      "source": [
        "model"
      ],
      "execution_count": null,
      "outputs": []
    },
    {
      "cell_type": "markdown",
      "metadata": {
        "id": "YLGeX5G3LK85"
      },
      "source": [
        "# Training The XLNET Model"
      ]
    },
    {
      "cell_type": "code",
      "metadata": {
        "id": "z_zOrxk3CSMD"
      },
      "source": [
        "EPOCHS = 3\n",
        "\n",
        "param_optimizer = list(model.named_parameters())\n",
        "no_decay = ['bias', 'LayerNorm.bias', 'LayerNorm.weight']\n",
        "optimizer_grouped_parameters = [\n",
        "                                {'params': [p for n, p in param_optimizer if not any(nd in n for nd in no_decay)], 'weight_decay': 0.01},\n",
        "                                {'params': [p for n, p in param_optimizer if any(nd in n for nd in no_decay)], 'weight_decay':0.0}\n",
        "]\n",
        "optimizer = AdamW(optimizer_grouped_parameters, lr=3e-5)\n",
        "\n",
        "total_steps = len(train_data_loader) * EPOCHS\n",
        "\n",
        "scheduler = get_linear_schedule_with_warmup(\n",
        "  optimizer,\n",
        "  num_warmup_steps=0,\n",
        "  num_training_steps=total_steps\n",
        ")\n"
      ],
      "execution_count": null,
      "outputs": []
    },
    {
      "cell_type": "code",
      "metadata": {
        "id": "dR5YGV6YCVaW"
      },
      "source": [
        "data = next(iter(val_data_loader))\n",
        "data.keys()"
      ],
      "execution_count": null,
      "outputs": []
    },
    {
      "cell_type": "code",
      "metadata": {
        "id": "ZuDrqfKyCnUi"
      },
      "source": [
        "def train_epoch(model, data_loader, optimizer, device, scheduler, n_examples):\n",
        "    model = model.train()\n",
        "    losses = []\n",
        "    acc = 0\n",
        "    counter = 0\n",
        "  \n",
        "    for d in data_loader:\n",
        "        input_ids = d[\"input_ids\"].reshape(4,512).to(device)\n",
        "        attention_mask = d[\"attention_mask\"].to(device)\n",
        "        targets = d[\"targets\"].to(device)\n",
        "        \n",
        "        outputs = model(input_ids=input_ids, token_type_ids=None, attention_mask=attention_mask, labels = targets)\n",
        "        loss = outputs[0]\n",
        "        logits = outputs[1]\n",
        "\n",
        "        # preds = preds.cpu().detach().numpy()\n",
        "        _, prediction = torch.max(outputs[1], dim=1)\n",
        "        targets = targets.cpu().detach().numpy()\n",
        "        prediction = prediction.cpu().detach().numpy()\n",
        "        accuracy = metrics.accuracy_score(targets, prediction)\n",
        "\n",
        "        acc += accuracy\n",
        "        losses.append(loss.item())\n",
        "        \n",
        "        loss.backward()\n",
        "\n",
        "        nn.utils.clip_grad_norm_(model.parameters(), max_norm=1.0)\n",
        "        optimizer.step()\n",
        "        scheduler.step()\n",
        "        optimizer.zero_grad()\n",
        "        counter = counter + 1\n",
        "\n",
        "    return acc / counter, np.mean(losses)"
      ],
      "execution_count": null,
      "outputs": []
    },
    {
      "cell_type": "code",
      "metadata": {
        "id": "i7dshgJTCo8a"
      },
      "source": [
        "def eval_model(model, data_loader, device, n_examples):\n",
        "    model = model.eval()\n",
        "    losses = []\n",
        "    acc = 0\n",
        "    counter = 0\n",
        "  \n",
        "    with torch.no_grad():\n",
        "        for d in data_loader:\n",
        "            input_ids = d[\"input_ids\"].reshape(4,512).to(device)\n",
        "            attention_mask = d[\"attention_mask\"].to(device)\n",
        "            targets = d[\"targets\"].to(device)\n",
        "            \n",
        "            outputs = model(input_ids=input_ids, token_type_ids=None, attention_mask=attention_mask, labels = targets)\n",
        "            loss = outputs[0]\n",
        "            logits = outputs[1]\n",
        "\n",
        "            _, prediction = torch.max(outputs[1], dim=1)\n",
        "            targets = targets.cpu().detach().numpy()\n",
        "            prediction = prediction.cpu().detach().numpy()\n",
        "            accuracy = metrics.accuracy_score(targets, prediction)\n",
        "\n",
        "            acc += accuracy\n",
        "            losses.append(loss.item())\n",
        "            counter += 1\n",
        "\n",
        "    return acc / counter, np.mean(losses)"
      ],
      "execution_count": null,
      "outputs": []
    },
    {
      "cell_type": "code",
      "metadata": {
        "colab": {
          "base_uri": "https://localhost:8080/"
        },
        "id": "ST-8eobFCtPR",
        "outputId": "c8728947-21d7-4309-bee4-41e7eaf43e98"
      },
      "source": [
        "%%time\n",
        "history = defaultdict(list)\n",
        "best_accuracy = 0\n",
        "\n",
        "for epoch in range(EPOCHS):\n",
        "    print(f'Epoch {epoch + 1}/{EPOCHS}')\n",
        "    print('-' * 10)\n",
        "\n",
        "    train_acc, train_loss = train_epoch(\n",
        "        model,\n",
        "        train_data_loader,     \n",
        "        optimizer, \n",
        "        device, \n",
        "        scheduler, \n",
        "        len(df_train)\n",
        "    )\n",
        "\n",
        "    print(f'Train loss {train_loss} Train accuracy {train_acc}')\n",
        "\n",
        "    val_acc, val_loss = eval_model(\n",
        "        model,\n",
        "        val_data_loader, \n",
        "        device, \n",
        "        len(df_val)\n",
        "    )\n",
        "\n",
        "    print(f'Val loss {val_loss} Val accuracy {val_acc}')\n",
        "    print()\n",
        "\n",
        "    history['train_acc'].append(train_acc)\n",
        "    history['train_loss'].append(train_loss)\n",
        "    history['val_acc'].append(val_acc)\n",
        "    history['val_loss'].append(val_loss)\n",
        "\n",
        "    if val_acc > best_accuracy:\n",
        "        torch.save(model.state_dict(), 'models/xlnet_model.bin')\n",
        "        best_accuracy = val_acc"
      ],
      "execution_count": null,
      "outputs": [
        {
          "output_type": "stream",
          "text": [
            "Epoch 1/3\n",
            "----------\n"
          ],
          "name": "stdout"
        },
        {
          "output_type": "stream",
          "text": [
            "/usr/local/lib/python3.7/dist-packages/torch/utils/data/dataloader.py:481: UserWarning: This DataLoader will create 4 worker processes in total. Our suggested max number of worker in current system is 2, which is smaller than what this DataLoader is going to create. Please be aware that excessive worker creation might get DataLoader running slow or even freeze, lower the worker number to avoid potential slowness/freeze if necessary.\n",
            "  cpuset_checked))\n"
          ],
          "name": "stderr"
        },
        {
          "output_type": "stream",
          "text": [
            "Train loss 0.38821425964966766 Train accuracy 0.91075\n",
            "Val loss 0.304517989745643 Val accuracy 0.9383\n",
            "\n",
            "Epoch 2/3\n",
            "----------\n",
            "Train loss 0.20119765334959958 Train accuracy 0.9595\n",
            "Val loss 0.30087769410003673 Val accuracy 0.9417\n",
            "\n",
            "Epoch 3/3\n",
            "----------\n",
            "Train loss 0.08985227801068103 Train accuracy 0.9839\n",
            "Val loss 0.31702735697345924 Val accuracy 0.9479\n",
            "\n",
            "CPU times: user 1h 55min 20s, sys: 2min 27s, total: 1h 57min 48s\n",
            "Wall time: 1h 57min 45s\n"
          ],
          "name": "stdout"
        }
      ]
    },
    {
      "cell_type": "code",
      "metadata": {
        "id": "5lkA7D5QDGoS"
      },
      "source": [
        "model.load_state_dict(torch.load('models/xlnet_model.bin'))"
      ],
      "execution_count": null,
      "outputs": []
    },
    {
      "cell_type": "code",
      "metadata": {
        "id": "kAi_3jznDHKq"
      },
      "source": [
        "model = model.to(device)"
      ],
      "execution_count": null,
      "outputs": []
    },
    {
      "cell_type": "code",
      "metadata": {
        "id": "5U_B04KKDIzK",
        "colab": {
          "base_uri": "https://localhost:8080/"
        },
        "outputId": "ea58f637-e156-4b46-dd21-ba21ee3f8a91"
      },
      "source": [
        "test_acc, test_loss = eval_model(\n",
        "  model,\n",
        "  test_data_loader,\n",
        "  device,\n",
        "  len(df_test)\n",
        ")\n",
        "\n",
        "print('Test Accuracy :', test_acc)\n",
        "print('Test Loss :', test_loss)"
      ],
      "execution_count": null,
      "outputs": [
        {
          "output_type": "stream",
          "text": [
            "Test Accuracy : 0.9478\n",
            "Test Loss : 0.3218533544650476\n"
          ],
          "name": "stdout"
        }
      ]
    },
    {
      "cell_type": "code",
      "metadata": {
        "id": "xSToy4JKDKex"
      },
      "source": [
        "def get_predictions(model, data_loader):\n",
        "    model = model.eval()\n",
        "    \n",
        "    review_texts = []\n",
        "    predictions = []\n",
        "    prediction_probs = []\n",
        "    real_values = []\n",
        "\n",
        "    with torch.no_grad():\n",
        "        for d in data_loader:\n",
        "\n",
        "            texts = d[\"review_text\"]\n",
        "            input_ids = d[\"input_ids\"].reshape(4,512).to(device)\n",
        "            attention_mask = d[\"attention_mask\"].to(device)\n",
        "            targets = d[\"targets\"].to(device)\n",
        "            \n",
        "            outputs = model(input_ids=input_ids, token_type_ids=None, attention_mask=attention_mask, labels = targets)\n",
        "\n",
        "            loss = outputs[0]\n",
        "            logits = outputs[1]\n",
        "            \n",
        "            _, preds = torch.max(outputs[1], dim=1)\n",
        "\n",
        "            probs = F.softmax(outputs[1], dim=1)\n",
        "\n",
        "            review_texts.extend(texts)\n",
        "            predictions.extend(preds)\n",
        "            prediction_probs.extend(probs)\n",
        "            real_values.extend(targets)\n",
        "\n",
        "    predictions = torch.stack(predictions).cpu()\n",
        "    prediction_probs = torch.stack(prediction_probs).cpu()\n",
        "    real_values = torch.stack(real_values).cpu()\n",
        "    return review_texts, predictions, prediction_probs, real_values"
      ],
      "execution_count": null,
      "outputs": []
    },
    {
      "cell_type": "code",
      "metadata": {
        "id": "4W-Ao-bHDPOF"
      },
      "source": [
        "y_review_texts, y_pred, y_pred_probs, y_test = get_predictions(\n",
        "  model,\n",
        "  test_data_loader\n",
        ")"
      ],
      "execution_count": null,
      "outputs": []
    },
    {
      "cell_type": "code",
      "metadata": {
        "id": "4Ldun6gQDQyp",
        "colab": {
          "base_uri": "https://localhost:8080/"
        },
        "outputId": "439ec109-a9ff-47ac-c5de-d4621445bf61"
      },
      "source": [
        "print(classification_report(y_test, y_pred, target_names=class_names))"
      ],
      "execution_count": null,
      "outputs": [
        {
          "output_type": "stream",
          "text": [
            "              precision    recall  f1-score   support\n",
            "\n",
            "    negative       0.96      0.94      0.95      5004\n",
            "    positive       0.94      0.96      0.95      4996\n",
            "\n",
            "    accuracy                           0.95     10000\n",
            "   macro avg       0.95      0.95      0.95     10000\n",
            "weighted avg       0.95      0.95      0.95     10000\n",
            "\n"
          ],
          "name": "stdout"
        }
      ]
    },
    {
      "cell_type": "code",
      "metadata": {
        "id": "8py8qZRVDVUS"
      },
      "source": [
        "def predict_sentiment(text):\n",
        "    review_text = text\n",
        "\n",
        "    encoded_review = tokenizer.encode_plus(\n",
        "    review_text,\n",
        "    max_length=MAX_LEN,\n",
        "    add_special_tokens=True,\n",
        "    return_token_type_ids=False,\n",
        "    pad_to_max_length=False,\n",
        "    return_attention_mask=True,\n",
        "    return_tensors='pt',\n",
        "    )\n",
        "\n",
        "    input_ids = pad_sequences(encoded_review['input_ids'], maxlen=MAX_LEN, dtype=torch.Tensor ,truncating=\"post\",padding=\"post\")\n",
        "    input_ids = input_ids.astype(dtype = 'int64')\n",
        "    input_ids = torch.tensor(input_ids) \n",
        "\n",
        "    attention_mask = pad_sequences(encoded_review['attention_mask'], maxlen=MAX_LEN, dtype=torch.Tensor ,truncating=\"post\",padding=\"post\")\n",
        "    attention_mask = attention_mask.astype(dtype = 'int64')\n",
        "    attention_mask = torch.tensor(attention_mask) \n",
        "\n",
        "    input_ids = input_ids.reshape(1,512).to(device)\n",
        "    attention_mask = attention_mask.to(device)\n",
        "\n",
        "    outputs = model(input_ids=input_ids, attention_mask=attention_mask)\n",
        "\n",
        "    outputs = outputs[0][0].cpu().detach()\n",
        "\n",
        "    probs = F.softmax(outputs, dim=-1).cpu().detach().numpy().tolist()\n",
        "    _, prediction = torch.max(outputs, dim =-1)\n",
        "\n",
        "    print(prediction)\n",
        "    print(\"Positive score:\", probs[1])\n",
        "    print(\"Negative score:\", probs[0])\n",
        "    print(f'Review text: {review_text}')\n",
        "    print(f'Sentiment  : {class_names[prediction]}')\n",
        "    return prediction\n",
        "\n"
      ],
      "execution_count": null,
      "outputs": []
    },
    {
      "cell_type": "code",
      "metadata": {
        "id": "RoLd4XfKDYNJ"
      },
      "source": [
        "text = \"Movie is the worst one I have ever seen!! The story has no meaning at all\"\n",
        "predict_sentiment(text)"
      ],
      "execution_count": null,
      "outputs": []
    },
    {
      "cell_type": "code",
      "metadata": {
        "id": "6jCyo-uhDZsG"
      },
      "source": [
        "text = \"This is the best movie I have ever seen!! The story is such a motivation\"\n",
        "predict_sentiment(text)"
      ],
      "execution_count": null,
      "outputs": []
    },
    {
      "cell_type": "markdown",
      "metadata": {
        "id": "THQ3zt-KLWl-"
      },
      "source": [
        "# ALIME And tree-ALIME"
      ]
    },
    {
      "cell_type": "code",
      "metadata": {
        "id": "988gnWOyhtJG"
      },
      "source": [
        "def data_augment_text(text,n,stop_words):\n",
        "  aug_we_insert = naw.ContextualWordEmbsAug(model_path='bert-base-uncased', action=\"insert\",aug_p=1.0 , aug_min=5)\n",
        "  aug_we_bert_subs = naw.ContextualWordEmbsAug(model_path='bert-base-uncased', action=\"substitute\",aug_p=1.0, aug_min=5)\n",
        "  aug_we_distill_bert_subs= naw.ContextualWordEmbsAug(model_path='distilbert-base-uncased', action=\"substitute\",aug_p=1.0, aug_min=5)\n",
        "  aug_we_roberta_subs = naw.ContextualWordEmbsAug(model_path='roberta-base', action=\"substitute\",aug_p=1.0, aug_min=5)\n",
        "  aug_syn = naw.SynonymAug(aug_src='wordnet',stopwords=stop_words,aug_p=1.0, aug_min=5)\n",
        "  aug_ant= naw.AntonymAug(stopwords=stop_words,aug_p=1.0, aug_min=5)\n",
        "  aug_random = naw.RandomWordAug(stopwords=stop_words,aug_p=1.0, aug_min=5)\n",
        "  result=[]\n",
        "  m1=(int)(n/7)\n",
        "  m2=(int)(n/7)\n",
        "  m3=(int)(n/7)\n",
        "  m4=(int)(n/3.5)\n",
        "  m5=(int)(n/3.5)\n",
        "  m6=(int)(n/28)\n",
        "  m7=n-(m1+m2+m3+m4+m5+m6)\n",
        "  result+=aug_we_insert.augment(text,m1)\n",
        "  result+=aug_we_bert_subs.augment(text,m2)\n",
        "  result+=aug_we_distill_bert_subs.augment(text,m3)\n",
        "  result+=aug_we_roberta_subs.augment(text,m4)\n",
        "  result+=aug_syn.augment(text,m5)\n",
        "  result+=aug_ant.augment(text,m6)\n",
        "  result+=aug_random.augment(text,m7)\n",
        "\n",
        "  # for i in range(len(result)):\n",
        "  #   if np.random.rand()<0.5:\n",
        "  #     res=result[i]\n",
        "  #     res=res.replace('no','')\n",
        "  #     res=res.replace('has ','has not ')\n",
        "  #     res=res.replace('have ', 'have not ')\n",
        "  #     res=res.replace('did ', 'did not ')\n",
        "  #     res=res.replace('do ', 'do not ')\n",
        "  #     res=res.replace('does ', 'does not ')\n",
        "  #     res=res.replace('could ', 'could not ')\n",
        "  #     res=res.replace('should ', 'should not ')\n",
        "  #     res=res.replace('can ', 'can not ')\n",
        "  #     res=res.replace('had ', 'had not ')\n",
        "  #     res=res.replace('ever ', 'never ')\n",
        "  #     res=res.replace('did ', 'did not ')\n",
        "  #     res=res.replace('is ', 'is not ')\n",
        "  #     res=res.replace('was ', 'was not ')\n",
        "  #     res=res.replace('are ', 'are not ')\n",
        "  #     res=res.replace('were ', 'were not ')\n",
        "  #     result[i]=res\n",
        "  # print(result)\n",
        "  return result"
      ],
      "execution_count": null,
      "outputs": []
    },
    {
      "cell_type": "code",
      "metadata": {
        "id": "uypWWEaEv9Lj"
      },
      "source": [
        "model_sim = SentenceTransformer('paraphrase-mpnet-base-v2')"
      ],
      "execution_count": null,
      "outputs": []
    },
    {
      "cell_type": "code",
      "metadata": {
        "id": "NBmDCSkh1085"
      },
      "source": [
        "def calc_sims(data , x):\n",
        "  sim=np.zeros(len(data))\n",
        "  for i in range(len(data)):\n",
        "    sim[i]=util.pytorch_cos_sim(model_sim.encode(data[i]),model_sim.encode(x))\n",
        "  return sim"
      ],
      "execution_count": null,
      "outputs": []
    },
    {
      "cell_type": "code",
      "metadata": {
        "id": "osV7J2t02iv_"
      },
      "source": [
        "def model_predict(dataset):\n",
        "  labels=np.zeros(len(dataset))\n",
        "  for i in range(len(dataset)):\n",
        "    labels[i]=predict_sentiment(dataset[i])\n",
        "  return labels"
      ],
      "execution_count": null,
      "outputs": []
    },
    {
      "cell_type": "code",
      "metadata": {
        "id": "joKJ_vEk3qfo"
      },
      "source": [
        "def extract_features(data):\n",
        "  tfidf_vectorizer=TfidfVectorizer(use_idf=True, max_df=0.95)\n",
        "  tfidf_vectorizer.fit_transform(data)\n",
        "  feature_set=tfidf_vectorizer.transform(data)\n",
        "  return feature_set,tfidf_vectorizer"
      ],
      "execution_count": null,
      "outputs": []
    },
    {
      "cell_type": "code",
      "metadata": {
        "id": "S0uzqJbRzXwo"
      },
      "source": [
        "# nltk.download('stopwords')\n",
        "# stop_words = set(stopwords.words('english'))\n",
        "def preprocess_text(text):\n",
        "  text=clean_text(text)\n",
        "  text=text.lower()\n",
        "  text=text.replace('.',' ')\n",
        "  text=text.replace('n\\'t',' not')\n",
        "  text_tokens = word_tokenize(text)\n",
        "  tokens_without_sw = [word for word in text_tokens if not word in stop_words]\n",
        "  filtered_sentence = (\" \").join(tokens_without_sw)\n",
        "  return filtered_sentence"
      ],
      "execution_count": null,
      "outputs": []
    },
    {
      "cell_type": "code",
      "metadata": {
        "id": "8zLXOb4OEohF"
      },
      "source": [
        " def get_num_of_pos_and_neg_words(text):\n",
        "   text_tokens = word_tokenize(text)\n",
        "   num_pos_words=0\n",
        "   num_neg_words=0\n",
        "   for token in text_tokens:\n",
        "     sent_syns=swn.senti_synsets(token)\n",
        "     num_pos=0\n",
        "     num_neg=0\n",
        "     for sent_syn in sent_syns:\n",
        "      #  print(sent_syn)\n",
        "       if sent_syn.pos_score()>sent_syn.neg_score():\n",
        "         num_pos+=1\n",
        "       elif sent_syn.pos_score()<sent_syn.neg_score():\n",
        "         num_neg+=1\n",
        "     if num_pos>num_neg:\n",
        "       num_pos_words+=1\n",
        "     elif num_pos<num_neg:\n",
        "       num_neg_words+=1\n",
        "   return num_pos_words,num_neg_words"
      ],
      "execution_count": null,
      "outputs": []
    },
    {
      "cell_type": "code",
      "metadata": {
        "id": "a7TDXOlNFaCY"
      },
      "source": [
        "num_pos_words,num_neg_words=get_num_of_pos_and_neg_words(preprocess_text(text))"
      ],
      "execution_count": null,
      "outputs": []
    },
    {
      "cell_type": "code",
      "metadata": {
        "id": "Wtsvpnp34sI6"
      },
      "source": [
        "x='This movie is the worst one I have ever seen!! The story has no meaning at all'"
      ],
      "execution_count": null,
      "outputs": []
    },
    {
      "cell_type": "code",
      "metadata": {
        "id": "qedBrbOjy5cs"
      },
      "source": [
        "def ALIME_main_and_tree(x, n , model):\n",
        "  prep_x=preprocess_text(x)\n",
        "  new_data=data_augment_text(x,n,stop_words)\n",
        "  prep_data=[]\n",
        "  for dat in new_data:\n",
        "    prep_data.append(preprocess_text(dat))\n",
        "  sim=calc_sims(prep_data,prep_x)\n",
        "  local_dataset=[]\n",
        "  weights=np.zeros(len(sim))\n",
        "  # local_dataset=[]\n",
        "  for i in range(len(sim)):\n",
        "    local_dataset.append(prep_data[i])\n",
        "    weights[i]=np.exp(-(1-sim[i]))\n",
        " \n",
        "  labels=model_predict(local_dataset)\n",
        "\n",
        "  sum=np.sum(labels)\n",
        "  l_model=None\n",
        "  tree_model=None\n",
        "  predict=None\n",
        "  feature_set,tfidf_vectorizer= extract_features(local_dataset)\n",
        "  new_features_pos=[]\n",
        "  new_features_neg=[]\n",
        "  for dat in prep_data:\n",
        "    num_pos_words,num_neg_words=get_num_of_pos_and_neg_words(dat)\n",
        "    new_features_pos.append(num_pos_words)\n",
        "    new_features_neg.append(num_neg_words)\n",
        "  feature_set_array=feature_set.toarray()\n",
        "  new_feature_set=np.concatenate((np.asarray(new_features_neg).reshape(-1,1), feature_set_array), axis=1)\n",
        "  new_feature_set=np.concatenate((np.asarray(new_features_pos).reshape(-1,1), new_feature_set), axis=1)  \n",
        "  if sum==0 or sum==len(labels):\n",
        "    predict=sum/len(labels)\n",
        "  else:\n",
        "    l_model=sklearn.linear_model.LogisticRegression(max_iter=150,solver='liblinear', random_state=0)\n",
        "  # print(local_dataset)\n",
        "    l_model.fit(feature_set,labels,sample_weight=weights )\n",
        "\n",
        "    tree_model=sklearn.tree.DecisionTreeClassifier(random_state=0, max_depth=5)\n",
        "    tree_model.fit(new_feature_set,labels,sample_weight=weights)\n",
        "\n",
        "  return l_model,tree_model,predict,feature_set,tfidf_vectorizer\n"
      ],
      "execution_count": null,
      "outputs": []
    },
    {
      "cell_type": "code",
      "metadata": {
        "id": "W0u9GiFwG5B6"
      },
      "source": [
        "file_stop=open('stop_words.txt')\n",
        "stop_words= [x.replace('\\n','') for x in file_stop.readlines()]"
      ],
      "execution_count": null,
      "outputs": []
    },
    {
      "cell_type": "code",
      "metadata": {
        "id": "8xRIOkAO4kOX"
      },
      "source": [
        "count=0\n",
        "f=open('text_data_test.txt')\n",
        "for x in f.readlines():\n",
        "  print(count)\n",
        "# x='Extremely weak movie, it felt as though the director watched some Roger Moore era bond movie and took it from there. You never felt that any of the main characters were in danger and the main villain\\'s motivation and plan was very \\'Doctor Evil\\' including evil lair. Poorly directed and choreographed fight scenes. Meh.'\n",
        "  prep_text=x\n",
        "  l_model,tree_model,predict,feature_set,tfidf_vectorizer= ALIME_main_and_tree(prep_text,150,model)\n",
        "  fig = plt.figure(figsize =(10,10))\n",
        "  coefs=[]\n",
        "  feature_names=[]\n",
        "  select_df = pd.DataFrame(columns=['coefs','feature_name'])\n",
        "  if l_model !=None and tree_model!=None:\n",
        "    coefs_row= l_model.coef_.reshape(-1)\n",
        "    df = pd.DataFrame({'coefs':coefs_row,\n",
        "                      'feature_name':tfidf_vectorizer.get_feature_names()})\n",
        "    df = df.sort_values(by='coefs')\n",
        "    select_df = df.head(5).append(df.tail(5))\n",
        "\n",
        "    print(coefs_row.shape)\n",
        "\n",
        "    bar=plt.barh(select_df.feature_name, select_df.coefs)\n",
        "\n",
        "    fig.savefig('text/linear_model/{}.png'.format(count))\n",
        "    tree_features=['negative_word_count','positive_word_count']\n",
        "    tree_features+=tfidf_vectorizer.get_feature_names()\n",
        "    dot_data=sklearn.tree.export_graphviz(tree_model, out_file=None, \n",
        "                                  feature_names=tree_features,  \n",
        "                                  class_names=class_names,\n",
        "                                  filled=True,impurity=False)\n",
        "    graph = graphviz.Source(dot_data, format=\"png\") \n",
        "    graph.render('text/tree_model/{}'.format(count))\n",
        "  count+=1"
      ],
      "execution_count": null,
      "outputs": []
    },
    {
      "cell_type": "code",
      "metadata": {
        "id": "PQ5T2G6ZrmhX"
      },
      "source": [
        "!zip -r text_test.zip /text"
      ],
      "execution_count": null,
      "outputs": []
    },
    {
      "cell_type": "code",
      "metadata": {
        "id": "dhjOpGSG7Lxk"
      },
      "source": [
        "print(tfidf_vectorizer.get_feature_names())"
      ],
      "execution_count": null,
      "outputs": []
    },
    {
      "cell_type": "code",
      "metadata": {
        "id": "ylZOcSLugukj"
      },
      "source": [
        "l_model.coef_"
      ],
      "execution_count": null,
      "outputs": []
    }
  ]
}